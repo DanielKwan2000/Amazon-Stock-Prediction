{
 "cells": [
  {
   "cell_type": "code",
   "execution_count": 17,
   "metadata": {},
   "outputs": [],
   "source": [
    "import matplotlib.pyplot as plt\n",
    "#import for graph"
   ]
  },
  {
   "cell_type": "code",
   "execution_count": 18,
   "metadata": {},
   "outputs": [
    {
     "name": "stdout",
     "output_type": "stream",
     "text": [
      "[25, 34, 22, 27, 33, 33, 31, 22, 35, 34, 67, 54, 57, 43, 50, 57, 59, 52, 65, 47, 49, 48, 35, 33, 44, 45, 38, 43, 51, 46]\n",
      "[79, 51, 53, 78, 59, 74, 73, 57, 69, 75, 51, 32, 40, 47, 53, 36, 35, 58, 59, 50, 25, 20, 14, 12, 20, 5, 29, 27, 8, 7]\n"
     ]
    }
   ],
   "source": [
    "with open('datasetq2.csv', 'r') as f: #read the file and store results \n",
    "    results = [line.strip(\"\\n\") for line in f]\n",
    "    f.close()\n",
    "    \n",
    "data = results[1:] #remove f1 f2 label\n",
    "\n",
    "f1 = [int(i[0:2]) for i in data]\n",
    "f2 = [int(j[3:]) for j in data]\n",
    "#x and y \n",
    "\n",
    "print(f1)\n",
    "print(f2)\n",
    "\n",
    "#unsupervised learning k means clustering algorithm\n",
    "#data has n = 30 features = 2 \n",
    "\n",
    "df = { 'f1' : f1,\n",
    "'f2' : f2\n",
    "}"
   ]
  },
  {
   "cell_type": "code",
   "execution_count": 19,
   "metadata": {},
   "outputs": [
    {
     "data": {
      "text/plain": [
       "(0, 69.25985663082439)"
      ]
     },
     "execution_count": 19,
     "metadata": {},
     "output_type": "execute_result"
    },
    {
     "data": {
      "image/png": "[encoded data removed]",
      "text/plain": [
       "<Figure size 432x288 with 1 Axes>"
      ]
     },
     "metadata": {
      "needs_background": "light"
     },
     "output_type": "display_data"
    }
   ],
   "source": [
    "###A: Plot data###\n",
    "\n",
    "plt.scatter(f1,f2, color = 'k')\n",
    "plt.xlabel(\"feature one\", fontsize= 14) #changing the axis\n",
    "plt.ylabel(\"feature two\", fontsize= 14)\n",
    "plt.title(\"Plot\",fontsize=14)\n",
    "plt.xlim(0)\n"
   ]
  },
  {
   "cell_type": "code",
   "execution_count": 20,
   "metadata": {},
   "outputs": [],
   "source": [
    "\"\"\"\n",
    "Square root function\n",
    "\"\"\"\n",
    "\n",
    "def squareroot(number):\n",
    "    return number ** 0.5\n"
   ]
  },
  {
   "cell_type": "code",
   "execution_count": 21,
   "metadata": {},
   "outputs": [],
   "source": [
    "\"\"\"\n",
    "Assign points to correct labels based of Euclidean distance\n",
    "\n",
    "Input:\n",
    "    - Dataset ~df\n",
    "    - List of Centroids~centroids\n",
    "Output:\n",
    "    - List of labeled coordinates~labels\n",
    "\"\"\"\n",
    "def assignment(df, centroids):\n",
    "    new = {}\n",
    "    counter = 0\n",
    "    which_one = [] #this will be an array of indices of which centroid is closest\n",
    "    labels ={} #new labels\n",
    "    hard_count = len(centroids.keys()) #wanted the size of how many keys\n",
    "    \n",
    "    #first loop\n",
    "    for key in centroids.keys():\n",
    "        #to create general dict for euclidean distances\n",
    "        new['distance_from_{}'.format(key)] = []\n",
    "        point = centroids.get(key)\n",
    "        \n",
    "        for index in range(len(df.get('f1'))):\n",
    "            \n",
    "            new[\"distance_from_{}\".format(key)].append(squareroot(((df.get('f1')[index] - point[0])**2) + ((df.get('f2')[index] - point[1])**2)))\n",
    "            #this returns the dictionary for all the distances \n",
    "\n",
    "    #comparing all into an array to find the index of the minimum distance \n",
    "    for l in range(len(df.get('f1'))):\n",
    "            \n",
    "        temp = []\n",
    "        \n",
    "        for c in range(1,hard_count + 1):\n",
    "           \n",
    "            temp.append(new.get(\"distance_from_{}\".format(c))[l])\n",
    "        \n",
    "        which_one.append(temp.index(min(temp))) #gets which one is closest to the centroid\n",
    "               \n",
    "    for key_num in range(1, hard_count+1):\n",
    "        labels[(key_num)] = []\n",
    "        \n",
    "    for value in which_one:\n",
    "        \n",
    "        labels.get((value+1)).append([df.get('f1')[counter],df.get('f2')[counter]])\n",
    "        counter += 1\n",
    "        \n",
    "    return labels #return the dictionary which has the points in whichever centroid\n",
    "        \n",
    "   \n"
   ]
  },
  {
   "cell_type": "code",
   "execution_count": 22,
   "metadata": {},
   "outputs": [],
   "source": [
    "\"\"\"\n",
    "Calculate new centroid\n",
    "\n",
    "Input:\n",
    "    - Dataset~df\n",
    "    - List of labeled coordinates~labels\n",
    "Output:\n",
    "    - Returns new set of centroid~new_centroids\n",
    "\"\"\"\n",
    "def reassign_centroids(df, labels):\n",
    "    \n",
    "    new_centroids = {}#new centroid list\n",
    "   \n",
    "    for i in range(1,k_copy +1):\n",
    "        #k copy was passed from inside our main function\n",
    "        a= labels.get(i)\n",
    "        \n",
    "        x = 0\n",
    "      \n",
    "        y=0\n",
    "        for element in a:\n",
    "            \n",
    "            x += element[0]\n",
    "            y += element[1]\n",
    "        \n",
    "        new_centroids[i]= [round(x/len(a)),round(y/len(a))] #we are averaging all the points and rounding it\n",
    "        #rounding the points\n",
    "    \n",
    "    \n",
    "    #put back into dictionary for convience\n",
    "    \n",
    "   \n",
    "    \n",
    "    return new_centroids\n",
    "    \n",
    "#new_centroids =reassign_centroids(df,labels)\n",
    "#print(df)\n",
    "#print(new_centroids)\n",
    "#print(labels)"
   ]
  },
  {
   "cell_type": "code",
   "execution_count": 23,
   "metadata": {},
   "outputs": [],
   "source": [
    "\"\"\"\n",
    "K means clustering Algorithm works for K clusters\n",
    "\n",
    "Input: \n",
    "    - Dataset ~df \n",
    "    - Cluster Size ~k\n",
    "Output:\n",
    "    - Returns labels and new centroids\n",
    "\"\"\"\n",
    "def kmeans(df, k):\n",
    "    global k_copy #since we are not passing k into other functions, create a global copy\n",
    "    k_copy = k #will be useful to use as loop iteration counters\n",
    "    \n",
    "    ##########Step 1: Choose the first k points as centroid##########\n",
    "    centroids = {\n",
    "    i+1: [df.get('f1')[i], df.get('f2')[i]]\n",
    "    for i in range(k)\n",
    "}\n",
    "    \n",
    "    ##########Step 2: Assignment##########\n",
    "    \n",
    "    labels = assignment(df, centroids) #assigns each point to a label\n",
    "    \n",
    "    \n",
    "    print(\"Initial labels\" + str(labels))\n",
    "    \n",
    "    \n",
    "    ##########Step 3: Reassign centroids using cluster average########## \n",
    "    \n",
    "    new_centroids=reassign_centroids(df, labels)\n",
    "    \n",
    "    \n",
    "    #repeating until convergence\n",
    "    check = True\n",
    "    curr = new_centroids.get(1)\n",
    "    while (check):\n",
    "        \n",
    "        labels = assignment(df, new_centroids)\n",
    "        new_centroids = reassign_centroids(new_centroids,labels)\n",
    "        late = new_centroids.get(1)\n",
    "        print(curr)\n",
    "        print(late)\n",
    "        if curr == late:\n",
    "            check = False\n",
    "        else:\n",
    "            curr = late\n",
    "        print(\"new centroids\" + str(new_centroids))\n",
    "        \n",
    "    \n",
    "    return labels, new_centroids, centroids\n",
    "\n"
   ]
  },
  {
   "cell_type": "code",
   "execution_count": 24,
   "metadata": {},
   "outputs": [
    {
     "name": "stdout",
     "output_type": "stream",
     "text": [
      "Initial labels{1: [[25, 79], [27, 78], [33, 74], [31, 73], [35, 69], [34, 75]], 2: [[34, 51], [22, 53], [33, 59], [22, 57], [67, 51], [54, 32], [57, 40], [43, 47], [50, 53], [57, 36], [59, 35], [52, 58], [65, 59], [47, 50], [49, 25], [48, 20], [35, 14], [33, 12], [44, 20], [45, 5], [38, 29], [43, 27], [51, 8], [46, 7]]}\n",
      "[31, 75]\n",
      "[29, 69]\n",
      "new centroids{1: [29, 69], 2: [48, 32]}\n",
      "[29, 69]\n",
      "[32, 66]\n",
      "new centroids{1: [32, 66], 2: [49, 30]}\n",
      "[32, 66]\n",
      "[33, 65]\n",
      "new centroids{1: [33, 65], 2: [49, 29]}\n",
      "[33, 65]\n",
      "[36, 63]\n",
      "new centroids{1: [36, 63], 2: [48, 26]}\n",
      "[36, 63]\n",
      "[37, 62]\n",
      "new centroids{1: [37, 62], 2: [48, 24]}\n",
      "[37, 62]\n",
      "[39, 62]\n",
      "new centroids{1: [39, 62], 2: [47, 22]}\n",
      "[39, 62]\n",
      "[39, 62]\n",
      "new centroids{1: [39, 62], 2: [47, 22]}\n",
      "Initial Centroids: \n",
      "{1: [25, 79], 2: [34, 51]}\n",
      "Final Centroids: \n",
      "{1: [39, 62], 2: [47, 22]}\n"
     ]
    },
    {
     "name": "stderr",
     "output_type": "stream",
     "text": [
      "D:\\Anaconda3\\lib\\site-packages\\ipykernel_launcher.py:57: MatplotlibDeprecationWarning: Adding an axes using the same arguments as a previous axes currently reuses the earlier instance.  In a future version, a new instance will always be created and returned.  Meanwhile, this warning can be suppressed, and the future behavior ensured, by passing a unique label to each axes instance.\n"
     ]
    },
    {
     "data": {
      "text/plain": [
       "(0, 69.26182795698925)"
      ]
     },
     "execution_count": 24,
     "metadata": {},
     "output_type": "execute_result"
    },
    {
     "data": {
      "image/png": "[encoded data removed]",
      "text/plain": [
       "<Figure size 360x360 with 1 Axes>"
      ]
     },
     "metadata": {
      "needs_background": "light"
     },
     "output_type": "display_data"
    },
    {
     "data": {
      "image/png": "[encoded data removed]",
      "text/plain": [
       "<Figure size 360x360 with 1 Axes>"
      ]
     },
     "metadata": {
      "needs_background": "light"
     },
     "output_type": "display_data"
    },
    {
     "data": {
      "image/png": "[encoded data removed]",
      "text/plain": [
       "<Figure size 360x360 with 1 Axes>"
      ]
     },
     "metadata": {
      "needs_background": "light"
     },
     "output_type": "display_data"
    }
   ],
   "source": [
    "labels, new_centroids, centroids = kmeans(df,2)\n",
    "#call function\n",
    "\n",
    "\n",
    "###Initial Plot with Centroid###\n",
    "print(\"Initial Centroids: \" )\n",
    "print(centroids)\n",
    "\n",
    "print(\"Final Centroids: \" )\n",
    "print(new_centroids)\n",
    "fig = plt.figure(figsize=(5, 5))\n",
    "plt.scatter(f1, f2, color='k')\n",
    "plt.xlabel(\"feature one\", fontsize= 14)\n",
    "plt.ylabel(\"feature two\", fontsize= 14)\n",
    "plt.title(\"Initial Plot\",fontsize=14)\n",
    "plt.xlim(0)\n",
    "colmap = {1: 'r', 2: 'g', 3: 'b'}\n",
    "for i in centroids.keys():\n",
    "    plt.scatter(*centroids[i], color=colmap[i])\n",
    "    \n",
    "    \n",
    "    \n",
    "###Final Plot with Centroids WITHOUT assignment###    \n",
    "fig = plt.figure(figsize=(5, 5))\n",
    "plt.scatter(f1, f2, color='k')\n",
    "plt.xlabel(\"feature one\", fontsize= 14)\n",
    "plt.ylabel(\"feature two\", fontsize= 14)\n",
    "plt.title(\"Final Plot without Assignment\",fontsize=14)\n",
    "plt.xlim(0)\n",
    "colmap = {1: 'r', 2: 'g', 3: 'b'}\n",
    "for i in new_centroids.keys():\n",
    "    plt.scatter(*new_centroids[i], color=colmap[i])\n",
    "    \n",
    "    \n",
    "\n",
    "    \n",
    "###Final Plot with Centroids WITH assignment### \n",
    "only_test = []\n",
    "only_test_2 = []\n",
    "\n",
    "only_test_3 = []\n",
    "only_test_4 = []\n",
    "    \n",
    "only_test_5 =[]\n",
    "only_test_6 = []\n",
    "for i in labels.get(1):\n",
    "    only_test.append(i[0])\n",
    "    only_test_2.append(i[1])\n",
    "for i in labels.get(2):\n",
    "    only_test_3.append(i[0])\n",
    "    only_test_4.append(i[1])\n",
    " \n",
    "\n",
    "fig = plt.figure(figsize=(5, 5))\n",
    "plt.scatter(only_test,only_test_2, color = 'r')\n",
    "plt.scatter(only_test_3,only_test_4, color = 'g')\n",
    "ax = plt.axes()\n",
    "\n",
    "\n",
    "for i in new_centroids.keys():\n",
    "    old_x = centroids.get(i)[0]\n",
    "    old_y = centroids.get(i)[1]\n",
    "    dx = (new_centroids.get(i)[0] - centroids.get(i)[0]) * 0.75\n",
    "    dy = (new_centroids.get(i)[1] - centroids.get(i)[1]) * 0.75\n",
    "    ax.arrow(old_x, old_y, dx, dy, head_width=2, head_length=3, fc=colmap[i], ec=colmap[i])\n",
    "\n",
    "\n",
    "plt.xlabel(\"feature one\", fontsize= 14)\n",
    "plt.ylabel(\"feature two\", fontsize= 14)\n",
    "plt.title(\"Final Plot with Assignment\",fontsize=14)\n",
    "plt.xlim(0)"
   ]
  },
  {
   "cell_type": "code",
   "execution_count": 25,
   "metadata": {},
   "outputs": [
    {
     "name": "stdout",
     "output_type": "stream",
     "text": [
      "16\n",
      "14\n"
     ]
    }
   ],
   "source": [
    "cluster_one = len(labels.get(1))\n",
    "print(cluster_one)\n",
    "cluster_two = len(labels.get(2))\n",
    "print(cluster_two)"
   ]
  },
  {
   "cell_type": "markdown",
   "metadata": {},
   "source": [
    "Cluster size with label 1 is 16\n",
    "\n",
    "Cluster size with label 2 is 14\n",
    "\n",
    "\n",
    "The final centroids are {1: [39, 62], 2: [47, 22]}"
   ]
  },
  {
   "cell_type": "code",
   "execution_count": null,
   "metadata": {},
   "outputs": [],
   "source": []
  },
  {
   "cell_type": "code",
   "execution_count": null,
   "metadata": {},
   "outputs": [],
   "source": [
    "\n",
    "        "
   ]
  },
  {
   "cell_type": "code",
   "execution_count": null,
   "metadata": {},
   "outputs": [],
   "source": []
  }
 ],
 "metadata": {
  "kernelspec": {
   "display_name": "Python 3",
   "language": "python",
   "name": "python3"
  },
  "language_info": {
   "codemirror_mode": {
    "name": "ipython",
    "version": 3
   },
   "file_extension": ".py",
   "mimetype": "text/x-python",
   "name": "python",
   "nbconvert_exporter": "python",
   "pygments_lexer": "ipython3",
   "version": "3.7.4"
  }
 },
 "nbformat": 4,
 "nbformat_minor": 2
}
